{
 "cells": [
  {
   "cell_type": "code",
   "execution_count": 1,
   "metadata": {},
   "outputs": [],
   "source": [
    "### IMPORT DATA ###\n",
    "\n",
    "# Code from https://community.amstat.org/dataexpo/home\n",
    "\n",
    "# Data dictionary reference https://www.transtats.bts.gov/Fields.asp?gnoyr_VQ=FGJ\n",
    "\n",
    "import os\n",
    "\n",
    "import urllib.request\n",
    "\n",
    "from concurrent.futures import ThreadPoolExecutor\n",
    "\n",
    "\n",
    "base_url = \"https://blobs.duckdb.org/flight-data-partitioned/\"\n",
    "\n",
    "files = [f\"Year={year}/data_0.parquet\" for year in range(1987, 2025)]\n",
    "\n",
    "\n",
    "def download_file(f):\n",
    "\n",
    "    os.makedirs(os.path.dirname(f), exist_ok=True)\n",
    "\n",
    "    req = urllib.request.Request(base_url + f, headers={'User-Agent': 'Mozilla/5.0'})\n",
    "\n",
    "    with urllib.request.urlopen(req) as response, open(f, 'wb') as out_file:\n",
    "\n",
    "        out_file.write(response.read())\n",
    "\n",
    "\n",
    "with ThreadPoolExecutor() as executor:\n",
    "\n",
    "    executor.map(download_file, files)"
   ]
  },
  {
   "cell_type": "code",
   "execution_count": 2,
   "metadata": {},
   "outputs": [],
   "source": [
    "# Imports\n",
    "import polars as pl"
   ]
  },
  {
   "cell_type": "code",
   "execution_count": 9,
   "metadata": {},
   "outputs": [],
   "source": [
    "# Load in Data to a DataFrame\n",
    "df_2024 = pl.read_parquet('Data/Year=2024/data_0.parquet')"
   ]
  },
  {
   "cell_type": "code",
   "execution_count": 10,
   "metadata": {},
   "outputs": [
    {
     "name": "stdout",
     "output_type": "stream",
     "text": [
      "shape: (3, 110)\n",
      "┌──────┬─────────┬───────┬────────────┬───┬───────────────┬──────────────┬─────────────┬───────────┐\n",
      "│ Year ┆ Quarter ┆ Month ┆ DayofMonth ┆ … ┆ Div5LongestGT ┆ Div5WheelsOf ┆ Div5TailNum ┆ column109 │\n",
      "│ ---  ┆ ---     ┆ ---   ┆ ---        ┆   ┆ ime           ┆ f            ┆ ---         ┆ ---       │\n",
      "│ i64  ┆ i64     ┆ i64   ┆ i64        ┆   ┆ ---           ┆ ---          ┆ str         ┆ str       │\n",
      "│      ┆         ┆       ┆            ┆   ┆ str           ┆ str          ┆             ┆           │\n",
      "╞══════╪═════════╪═══════╪════════════╪═══╪═══════════════╪══════════════╪═════════════╪═══════════╡\n",
      "│ 2024 ┆ 1       ┆ 1     ┆ 8          ┆ … ┆ null          ┆ null         ┆ null        ┆ null      │\n",
      "│ 2024 ┆ 1       ┆ 1     ┆ 9          ┆ … ┆ null          ┆ null         ┆ null        ┆ null      │\n",
      "│ 2024 ┆ 1       ┆ 1     ┆ 10         ┆ … ┆ null          ┆ null         ┆ null        ┆ null      │\n",
      "└──────┴─────────┴───────┴────────────┴───┴───────────────┴──────────────┴─────────────┴───────────┘\n"
     ]
    }
   ],
   "source": [
    "# Head\n",
    "print(df_2024.head(3))"
   ]
  },
  {
   "cell_type": "code",
   "execution_count": 11,
   "metadata": {},
   "outputs": [
    {
     "name": "stdout",
     "output_type": "stream",
     "text": [
      "shape: (9, 111)\n",
      "┌───────────┬───────────┬───────────┬───────────┬───┬───────────┬───────────┬───────────┬──────────┐\n",
      "│ statistic ┆ Year      ┆ Quarter   ┆ Month     ┆ … ┆ Div5Longe ┆ Div5Wheel ┆ Div5TailN ┆ column10 │\n",
      "│ ---       ┆ ---       ┆ ---       ┆ ---       ┆   ┆ stGTime   ┆ sOff      ┆ um        ┆ 9        │\n",
      "│ str       ┆ f64       ┆ f64       ┆ f64       ┆   ┆ ---       ┆ ---       ┆ ---       ┆ ---      │\n",
      "│           ┆           ┆           ┆           ┆   ┆ str       ┆ str       ┆ str       ┆ str      │\n",
      "╞═══════════╪═══════════╪═══════════╪═══════════╪═══╪═══════════╪═══════════╪═══════════╪══════════╡\n",
      "│ count     ┆ 3.461319e ┆ 3.461319e ┆ 3.461319e ┆ … ┆ 0         ┆ 0         ┆ 0         ┆ 0        │\n",
      "│           ┆ 6         ┆ 6         ┆ 6         ┆   ┆           ┆           ┆           ┆          │\n",
      "│ null_coun ┆ 0.0       ┆ 0.0       ┆ 0.0       ┆ … ┆ 3461319   ┆ 3461319   ┆ 3461319   ┆ 3461319  │\n",
      "│ t         ┆           ┆           ┆           ┆   ┆           ┆           ┆           ┆          │\n",
      "│ mean      ┆ 2024.0    ┆ 1.520917  ┆ 3.583969  ┆ … ┆ null      ┆ null      ┆ null      ┆ null     │\n",
      "│ std       ┆ 0.0       ┆ 0.499562  ┆ 1.703909  ┆ … ┆ null      ┆ null      ┆ null      ┆ null     │\n",
      "│ min       ┆ 2024.0    ┆ 1.0       ┆ 1.0       ┆ … ┆ null      ┆ null      ┆ null      ┆ null     │\n",
      "│ 25%       ┆ 2024.0    ┆ 1.0       ┆ 2.0       ┆ … ┆ null      ┆ null      ┆ null      ┆ null     │\n",
      "│ 50%       ┆ 2024.0    ┆ 2.0       ┆ 4.0       ┆ … ┆ null      ┆ null      ┆ null      ┆ null     │\n",
      "│ 75%       ┆ 2024.0    ┆ 2.0       ┆ 5.0       ┆ … ┆ null      ┆ null      ┆ null      ┆ null     │\n",
      "│ max       ┆ 2024.0    ┆ 2.0       ┆ 6.0       ┆ … ┆ null      ┆ null      ┆ null      ┆ null     │\n",
      "└───────────┴───────────┴───────────┴───────────┴───┴───────────┴───────────┴───────────┴──────────┘\n"
     ]
    }
   ],
   "source": [
    "# Describe\n",
    "print(df_2024.describe())"
   ]
  },
  {
   "cell_type": "code",
   "execution_count": 13,
   "metadata": {},
   "outputs": [
    {
     "name": "stdout",
     "output_type": "stream",
     "text": [
      "Schema([('Year', Int64), ('Quarter', Int64), ('Month', Int64), ('DayofMonth', Int64), ('DayOfWeek', Int64), ('FlightDate', Date), ('Reporting_Airline', String), ('DOT_ID_Reporting_Airline', Int64), ('IATA_CODE_Reporting_Airline', String), ('Tail_Number', String), ('Flight_Number_Reporting_Airline', Int64), ('OriginAirportID', Int64), ('OriginAirportSeqID', Int64), ('OriginCityMarketID', Int64), ('Origin', String), ('OriginCityName', String), ('OriginState', String), ('OriginStateFips', String), ('OriginStateName', String), ('OriginWac', Int64), ('DestAirportID', Int64), ('DestAirportSeqID', Int64), ('DestCityMarketID', Int64), ('Dest', String), ('DestCityName', String), ('DestState', String), ('DestStateFips', String), ('DestStateName', String), ('DestWac', Int64), ('CRSDepTime', String), ('DepTime', String), ('DepDelay', Float64), ('DepDelayMinutes', Float64), ('DepDel15', Float64), ('DepartureDelayGroups', Int64), ('DepTimeBlk', String), ('TaxiOut', String), ('WheelsOff', String), ('WheelsOn', String), ('TaxiIn', String), ('CRSArrTime', String), ('ArrTime', String), ('ArrDelay', Float64), ('ArrDelayMinutes', Float64), ('ArrDel15', Float64), ('ArrivalDelayGroups', Int64), ('ArrTimeBlk', String), ('Cancelled', Float64), ('CancellationCode', String), ('Diverted', Float64), ('CRSElapsedTime', Float64), ('ActualElapsedTime', Float64), ('AirTime', String), ('Flights', Float64), ('Distance', Float64), ('DistanceGroup', Int64), ('CarrierDelay', String), ('WeatherDelay', String), ('NASDelay', String), ('SecurityDelay', String), ('LateAircraftDelay', String), ('FirstDepTime', String), ('TotalAddGTime', String), ('LongestAddGTime', String), ('DivAirportLandings', String), ('DivReachedDest', String), ('DivActualElapsedTime', String), ('DivArrDelay', String), ('DivDistance', String), ('Div1Airport', String), ('Div1AirportID', String), ('Div1AirportSeqID', String), ('Div1WheelsOn', String), ('Div1TotalGTime', String), ('Div1LongestGTime', String), ('Div1WheelsOff', String), ('Div1TailNum', String), ('Div2Airport', String), ('Div2AirportID', String), ('Div2AirportSeqID', String), ('Div2WheelsOn', String), ('Div2TotalGTime', String), ('Div2LongestGTime', String), ('Div2WheelsOff', String), ('Div2TailNum', String), ('Div3Airport', String), ('Div3AirportID', String), ('Div3AirportSeqID', String), ('Div3WheelsOn', String), ('Div3TotalGTime', String), ('Div3LongestGTime', String), ('Div3WheelsOff', String), ('Div3TailNum', String), ('Div4Airport', String), ('Div4AirportID', String), ('Div4AirportSeqID', String), ('Div4WheelsOn', String), ('Div4TotalGTime', String), ('Div4LongestGTime', String), ('Div4WheelsOff', String), ('Div4TailNum', String), ('Div5Airport', String), ('Div5AirportID', String), ('Div5AirportSeqID', String), ('Div5WheelsOn', String), ('Div5TotalGTime', String), ('Div5LongestGTime', String), ('Div5WheelsOff', String), ('Div5TailNum', String), ('column109', String)])\n"
     ]
    }
   ],
   "source": [
    "# Schema\n",
    "print(df_2024.schema)"
   ]
  },
  {
   "cell_type": "code",
   "execution_count": null,
   "metadata": {},
   "outputs": [],
   "source": [
    "### Question 1 ------ Looking at fuel price by region and its correlation with x\n",
    "\n",
    "sub_set = df_2024.select(['Reporting_Airline', 'Cancelled', ''])"
   ]
  },
  {
   "cell_type": "code",
   "execution_count": null,
   "metadata": {},
   "outputs": [],
   "source": [
    "### Question 2 ------ Can flights be grouped into clusters based on delay causes"
   ]
  },
  {
   "cell_type": "code",
   "execution_count": null,
   "metadata": {},
   "outputs": [],
   "source": [
    "### Question 3 ------- Are there seasonal trends to flight cancellations (Seasonal decomposition)"
   ]
  },
  {
   "cell_type": "code",
   "execution_count": null,
   "metadata": {},
   "outputs": [],
   "source": [
    "### Question 4 ------- What factors are most predictive for flight diversions?"
   ]
  }
 ],
 "metadata": {
  "kernelspec": {
   "display_name": "Python 3",
   "language": "python",
   "name": "python3"
  },
  "language_info": {
   "codemirror_mode": {
    "name": "ipython",
    "version": 3
   },
   "file_extension": ".py",
   "mimetype": "text/x-python",
   "name": "python",
   "nbconvert_exporter": "python",
   "pygments_lexer": "ipython3",
   "version": "3.11.10"
  }
 },
 "nbformat": 4,
 "nbformat_minor": 2
}
