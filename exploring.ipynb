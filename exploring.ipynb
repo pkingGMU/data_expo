{
 "cells": [
  {
   "cell_type": "code",
   "execution_count": null,
   "metadata": {},
   "outputs": [],
   "source": [
    "### IMPORT DATA ###\n",
    "\n",
    "# Code from https://community.amstat.org/dataexpo/home\n",
    "\n",
    "# Data dictionary reference https://www.transtats.bts.gov/Fields.asp?gnoyr_VQ=FGJ\n",
    "\n",
    "import os\n",
    "\n",
    "import urllib.request\n",
    "\n",
    "from concurrent.futures import ThreadPoolExecutor\n",
    "\n",
    "\n",
    "base_url = \"https://blobs.duckdb.org/flight-data-partitioned/\"\n",
    "\n",
    "files = [f\"Year={year}/data_0.parquet\" for year in range(1987, 2025)]\n",
    "\n",
    "\n",
    "def download_file(f):\n",
    "\n",
    "    os.makedirs(os.path.dirname(f), exist_ok=True)\n",
    "\n",
    "    req = urllib.request.Request(base_url + f, headers={'User-Agent': 'Mozilla/5.0'})\n",
    "\n",
    "    with urllib.request.urlopen(req) as response, open(f, 'wb') as out_file:\n",
    "\n",
    "        out_file.write(response.read())\n",
    "\n",
    "\n",
    "with ThreadPoolExecutor() as executor:\n",
    "\n",
    "    executor.map(download_file, files)"
   ]
  },
  {
   "cell_type": "code",
   "execution_count": 1,
   "metadata": {},
   "outputs": [],
   "source": [
    "# Imports\n",
    "import polars as pl\n",
    "from sklearn.cluster import KMeans\n",
    "import numpy as np"
   ]
  },
  {
   "cell_type": "code",
   "execution_count": 35,
   "metadata": {},
   "outputs": [],
   "source": [
    "# Load in Data to a DataFrame\n",
    "df_2024 = pl.read_parquet('Data/Year=2024/data_0.parquet')"
   ]
  },
  {
   "cell_type": "code",
   "execution_count": 36,
   "metadata": {},
   "outputs": [
    {
     "name": "stdout",
     "output_type": "stream",
     "text": [
      "shape: (3, 110)\n",
      "┌──────┬─────────┬───────┬────────────┬───┬───────────────┬──────────────┬─────────────┬───────────┐\n",
      "│ Year ┆ Quarter ┆ Month ┆ DayofMonth ┆ … ┆ Div5LongestGT ┆ Div5WheelsOf ┆ Div5TailNum ┆ column109 │\n",
      "│ ---  ┆ ---     ┆ ---   ┆ ---        ┆   ┆ ime           ┆ f            ┆ ---         ┆ ---       │\n",
      "│ i64  ┆ i64     ┆ i64   ┆ i64        ┆   ┆ ---           ┆ ---          ┆ str         ┆ str       │\n",
      "│      ┆         ┆       ┆            ┆   ┆ str           ┆ str          ┆             ┆           │\n",
      "╞══════╪═════════╪═══════╪════════════╪═══╪═══════════════╪══════════════╪═════════════╪═══════════╡\n",
      "│ 2024 ┆ 1       ┆ 1     ┆ 8          ┆ … ┆ null          ┆ null         ┆ null        ┆ null      │\n",
      "│ 2024 ┆ 1       ┆ 1     ┆ 9          ┆ … ┆ null          ┆ null         ┆ null        ┆ null      │\n",
      "│ 2024 ┆ 1       ┆ 1     ┆ 10         ┆ … ┆ null          ┆ null         ┆ null        ┆ null      │\n",
      "└──────┴─────────┴───────┴────────────┴───┴───────────────┴──────────────┴─────────────┴───────────┘\n"
     ]
    }
   ],
   "source": [
    "# Head\n",
    "print(df_2024.head(3))"
   ]
  },
  {
   "cell_type": "code",
   "execution_count": 37,
   "metadata": {},
   "outputs": [
    {
     "name": "stdout",
     "output_type": "stream",
     "text": [
      "shape: (9, 111)\n",
      "┌───────────┬───────────┬───────────┬───────────┬───┬───────────┬───────────┬───────────┬──────────┐\n",
      "│ statistic ┆ Year      ┆ Quarter   ┆ Month     ┆ … ┆ Div5Longe ┆ Div5Wheel ┆ Div5TailN ┆ column10 │\n",
      "│ ---       ┆ ---       ┆ ---       ┆ ---       ┆   ┆ stGTime   ┆ sOff      ┆ um        ┆ 9        │\n",
      "│ str       ┆ f64       ┆ f64       ┆ f64       ┆   ┆ ---       ┆ ---       ┆ ---       ┆ ---      │\n",
      "│           ┆           ┆           ┆           ┆   ┆ str       ┆ str       ┆ str       ┆ str      │\n",
      "╞═══════════╪═══════════╪═══════════╪═══════════╪═══╪═══════════╪═══════════╪═══════════╪══════════╡\n",
      "│ count     ┆ 3.461319e ┆ 3.461319e ┆ 3.461319e ┆ … ┆ 0         ┆ 0         ┆ 0         ┆ 0        │\n",
      "│           ┆ 6         ┆ 6         ┆ 6         ┆   ┆           ┆           ┆           ┆          │\n",
      "│ null_coun ┆ 0.0       ┆ 0.0       ┆ 0.0       ┆ … ┆ 3461319   ┆ 3461319   ┆ 3461319   ┆ 3461319  │\n",
      "│ t         ┆           ┆           ┆           ┆   ┆           ┆           ┆           ┆          │\n",
      "│ mean      ┆ 2024.0    ┆ 1.520917  ┆ 3.583969  ┆ … ┆ null      ┆ null      ┆ null      ┆ null     │\n",
      "│ std       ┆ 0.0       ┆ 0.499562  ┆ 1.703909  ┆ … ┆ null      ┆ null      ┆ null      ┆ null     │\n",
      "│ min       ┆ 2024.0    ┆ 1.0       ┆ 1.0       ┆ … ┆ null      ┆ null      ┆ null      ┆ null     │\n",
      "│ 25%       ┆ 2024.0    ┆ 1.0       ┆ 2.0       ┆ … ┆ null      ┆ null      ┆ null      ┆ null     │\n",
      "│ 50%       ┆ 2024.0    ┆ 2.0       ┆ 4.0       ┆ … ┆ null      ┆ null      ┆ null      ┆ null     │\n",
      "│ 75%       ┆ 2024.0    ┆ 2.0       ┆ 5.0       ┆ … ┆ null      ┆ null      ┆ null      ┆ null     │\n",
      "│ max       ┆ 2024.0    ┆ 2.0       ┆ 6.0       ┆ … ┆ null      ┆ null      ┆ null      ┆ null     │\n",
      "└───────────┴───────────┴───────────┴───────────┴───┴───────────┴───────────┴───────────┴──────────┘\n"
     ]
    }
   ],
   "source": [
    "# Describe\n",
    "print(df_2024.describe())"
   ]
  },
  {
   "cell_type": "code",
   "execution_count": 38,
   "metadata": {},
   "outputs": [
    {
     "name": "stdout",
     "output_type": "stream",
     "text": [
      "Schema([('Year', Int64), ('Quarter', Int64), ('Month', Int64), ('DayofMonth', Int64), ('DayOfWeek', Int64), ('FlightDate', Date), ('Reporting_Airline', String), ('DOT_ID_Reporting_Airline', Int64), ('IATA_CODE_Reporting_Airline', String), ('Tail_Number', String), ('Flight_Number_Reporting_Airline', Int64), ('OriginAirportID', Int64), ('OriginAirportSeqID', Int64), ('OriginCityMarketID', Int64), ('Origin', String), ('OriginCityName', String), ('OriginState', String), ('OriginStateFips', String), ('OriginStateName', String), ('OriginWac', Int64), ('DestAirportID', Int64), ('DestAirportSeqID', Int64), ('DestCityMarketID', Int64), ('Dest', String), ('DestCityName', String), ('DestState', String), ('DestStateFips', String), ('DestStateName', String), ('DestWac', Int64), ('CRSDepTime', String), ('DepTime', String), ('DepDelay', Float64), ('DepDelayMinutes', Float64), ('DepDel15', Float64), ('DepartureDelayGroups', Int64), ('DepTimeBlk', String), ('TaxiOut', String), ('WheelsOff', String), ('WheelsOn', String), ('TaxiIn', String), ('CRSArrTime', String), ('ArrTime', String), ('ArrDelay', Float64), ('ArrDelayMinutes', Float64), ('ArrDel15', Float64), ('ArrivalDelayGroups', Int64), ('ArrTimeBlk', String), ('Cancelled', Float64), ('CancellationCode', String), ('Diverted', Float64), ('CRSElapsedTime', Float64), ('ActualElapsedTime', Float64), ('AirTime', String), ('Flights', Float64), ('Distance', Float64), ('DistanceGroup', Int64), ('CarrierDelay', String), ('WeatherDelay', String), ('NASDelay', String), ('SecurityDelay', String), ('LateAircraftDelay', String), ('FirstDepTime', String), ('TotalAddGTime', String), ('LongestAddGTime', String), ('DivAirportLandings', String), ('DivReachedDest', String), ('DivActualElapsedTime', String), ('DivArrDelay', String), ('DivDistance', String), ('Div1Airport', String), ('Div1AirportID', String), ('Div1AirportSeqID', String), ('Div1WheelsOn', String), ('Div1TotalGTime', String), ('Div1LongestGTime', String), ('Div1WheelsOff', String), ('Div1TailNum', String), ('Div2Airport', String), ('Div2AirportID', String), ('Div2AirportSeqID', String), ('Div2WheelsOn', String), ('Div2TotalGTime', String), ('Div2LongestGTime', String), ('Div2WheelsOff', String), ('Div2TailNum', String), ('Div3Airport', String), ('Div3AirportID', String), ('Div3AirportSeqID', String), ('Div3WheelsOn', String), ('Div3TotalGTime', String), ('Div3LongestGTime', String), ('Div3WheelsOff', String), ('Div3TailNum', String), ('Div4Airport', String), ('Div4AirportID', String), ('Div4AirportSeqID', String), ('Div4WheelsOn', String), ('Div4TotalGTime', String), ('Div4LongestGTime', String), ('Div4WheelsOff', String), ('Div4TailNum', String), ('Div5Airport', String), ('Div5AirportID', String), ('Div5AirportSeqID', String), ('Div5WheelsOn', String), ('Div5TotalGTime', String), ('Div5LongestGTime', String), ('Div5WheelsOff', String), ('Div5TailNum', String), ('column109', String)])\n"
     ]
    }
   ],
   "source": [
    "# Schema\n",
    "print(df_2024.schema)"
   ]
  },
  {
   "cell_type": "code",
   "execution_count": 39,
   "metadata": {},
   "outputs": [],
   "source": [
    "### Question 1 ------ Looking at fuel price by region and its correlation with x\n",
    "\n",
    "#sub_set = df_2024.select(['Reporting_Airline', 'Cancelled', ''])"
   ]
  },
  {
   "cell_type": "markdown",
   "metadata": {},
   "source": [
    "Question 2 ------ Can flights be grouped into clusters based on delay causes"
   ]
  },
  {
   "cell_type": "code",
   "execution_count": 40,
   "metadata": {},
   "outputs": [],
   "source": [
    "### Subset needed Data ###\n",
    "sub_set_2 = df_2024.select([\n",
    "    'CarrierDelay',\n",
    "    'WeatherDelay',\n",
    "    'NASDelay',\n",
    "    'SecurityDelay',\n",
    "    'LateAircraftDelay'\n",
    "])"
   ]
  },
  {
   "cell_type": "code",
   "execution_count": 41,
   "metadata": {},
   "outputs": [],
   "source": [
    "# Drop nulls\n",
    "sub_set_2 = sub_set_2.drop_nulls()"
   ]
  },
  {
   "cell_type": "code",
   "execution_count": 42,
   "metadata": {},
   "outputs": [
    {
     "name": "stdout",
     "output_type": "stream",
     "text": [
      "Schema([('CarrierDelay', String), ('WeatherDelay', String), ('NASDelay', String), ('SecurityDelay', String), ('LateAircraftDelay', String)])\n",
      "<bound method DataFrame.head of shape: (748_647, 5)\n",
      "┌──────────────┬──────────────┬──────────┬───────────────┬───────────────────┐\n",
      "│ CarrierDelay ┆ WeatherDelay ┆ NASDelay ┆ SecurityDelay ┆ LateAircraftDelay │\n",
      "│ ---          ┆ ---          ┆ ---      ┆ ---           ┆ ---               │\n",
      "│ str          ┆ str          ┆ str      ┆ str           ┆ str               │\n",
      "╞══════════════╪══════════════╪══════════╪═══════════════╪═══════════════════╡\n",
      "│ 0.00         ┆ 0.00         ┆ 4.00     ┆ 0.00          ┆ 23.00             │\n",
      "│ 27.00        ┆ 0.00         ┆ 4.00     ┆ 0.00          ┆ 0.00              │\n",
      "│ 0.00         ┆ 0.00         ┆ 43.00    ┆ 0.00          ┆ 0.00              │\n",
      "│ 0.00         ┆ 8.00         ┆ 22.00    ┆ 0.00          ┆ 2.00              │\n",
      "│ 71.00        ┆ 0.00         ┆ 87.00    ┆ 0.00          ┆ 19.00             │\n",
      "│ …            ┆ …            ┆ …        ┆ …             ┆ …                 │\n",
      "│ 0.00         ┆ 70.00        ┆ 0.00     ┆ 0.00          ┆ 0.00              │\n",
      "│ 26.00        ┆ 0.00         ┆ 3.00     ┆ 0.00          ┆ 16.00             │\n",
      "│ 0.00         ┆ 0.00         ┆ 61.00    ┆ 0.00          ┆ 0.00              │\n",
      "│ 94.00        ┆ 0.00         ┆ 0.00     ┆ 0.00          ┆ 0.00              │\n",
      "│ 9.00         ┆ 0.00         ┆ 0.00     ┆ 0.00          ┆ 50.00             │\n",
      "└──────────────┴──────────────┴──────────┴───────────────┴───────────────────┘>\n"
     ]
    }
   ],
   "source": [
    "# Head\n",
    "print(sub_set_2.schema)\n",
    "print(sub_set_2.head)"
   ]
  },
  {
   "cell_type": "code",
   "execution_count": 43,
   "metadata": {},
   "outputs": [
    {
     "name": "stdout",
     "output_type": "stream",
     "text": [
      "<bound method DataFrame.head of shape: (748_647, 6)\n",
      "┌──────────────┬──────────────┬──────────┬───────────────┬───────────────────┬─────────┐\n",
      "│ CarrierDelay ┆ WeatherDelay ┆ NASDelay ┆ SecurityDelay ┆ LateAircraftDelay ┆ cluster │\n",
      "│ ---          ┆ ---          ┆ ---      ┆ ---           ┆ ---               ┆ ---     │\n",
      "│ str          ┆ str          ┆ str      ┆ str           ┆ str               ┆ i32     │\n",
      "╞══════════════╪══════════════╪══════════╪═══════════════╪═══════════════════╪═════════╡\n",
      "│ 0.00         ┆ 0.00         ┆ 4.00     ┆ 0.00          ┆ 23.00             ┆ 0       │\n",
      "│ 27.00        ┆ 0.00         ┆ 4.00     ┆ 0.00          ┆ 0.00              ┆ 0       │\n",
      "│ 0.00         ┆ 0.00         ┆ 43.00    ┆ 0.00          ┆ 0.00              ┆ 0       │\n",
      "│ 0.00         ┆ 8.00         ┆ 22.00    ┆ 0.00          ┆ 2.00              ┆ 0       │\n",
      "│ 71.00        ┆ 0.00         ┆ 87.00    ┆ 0.00          ┆ 19.00             ┆ 0       │\n",
      "│ …            ┆ …            ┆ …        ┆ …             ┆ …                 ┆ …       │\n",
      "│ 0.00         ┆ 70.00        ┆ 0.00     ┆ 0.00          ┆ 0.00              ┆ 0       │\n",
      "│ 26.00        ┆ 0.00         ┆ 3.00     ┆ 0.00          ┆ 16.00             ┆ 0       │\n",
      "│ 0.00         ┆ 0.00         ┆ 61.00    ┆ 0.00          ┆ 0.00              ┆ 0       │\n",
      "│ 94.00        ┆ 0.00         ┆ 0.00     ┆ 0.00          ┆ 0.00              ┆ 1       │\n",
      "│ 9.00         ┆ 0.00         ┆ 0.00     ┆ 0.00          ┆ 50.00             ┆ 0       │\n",
      "└──────────────┴──────────────┴──────────┴───────────────┴───────────────────┴─────────┘>\n"
     ]
    }
   ],
   "source": [
    "# Simple clustering model\n",
    "\n",
    "# Fit the clustering model\n",
    "kmeans = KMeans(n_clusters=4, random_state=42)\n",
    "cluster = kmeans.fit_predict(sub_set_2)\n",
    "\n",
    "# Numpy array\n",
    "#cluster = np.array(cluster)\n",
    "\n",
    "# Add to data\n",
    "sub_set_2 = sub_set_2.with_columns(\n",
    "    cluster=cluster\n",
    ")\n",
    "\n",
    "print(sub_set_2.head)\n",
    "\n",
    "\n"
   ]
  },
  {
   "cell_type": "code",
   "execution_count": 44,
   "metadata": {},
   "outputs": [
    {
     "name": "stdout",
     "output_type": "stream",
     "text": [
      "[[ 1.16613565e+01  4.97735777e+00  1.52680179e+01  1.54639520e-01\n",
      "   1.78918948e+01]\n",
      " [ 1.70919690e+02  4.91291353e-01  5.16469133e+00  2.11274863e-02\n",
      "   7.39799547e+00]\n",
      " [ 8.62250594e+02  5.28206651e-01  6.14192399e+00 -1.66533454e-16\n",
      "   3.96552850e+01]\n",
      " [ 9.65730913e+00  4.65735011e+00  6.53280603e+00  7.28863571e-02\n",
      "   2.03542867e+02]]\n"
     ]
    }
   ],
   "source": [
    "# Analyze the centers\n",
    "print(kmeans.cluster_centers_)"
   ]
  },
  {
   "cell_type": "code",
   "execution_count": 45,
   "metadata": {},
   "outputs": [
    {
     "name": "stdout",
     "output_type": "stream",
     "text": [
      "shape: (4, 2)\n",
      "┌─────────┬────────┐\n",
      "│ cluster ┆ n      │\n",
      "│ ---     ┆ ---    │\n",
      "│ i32     ┆ u32    │\n",
      "╞═════════╪════════╡\n",
      "│ 2       ┆ 3368   │\n",
      "│ 3       ┆ 48803  │\n",
      "│ 0       ┆ 657672 │\n",
      "│ 1       ┆ 38804  │\n",
      "└─────────┴────────┘\n"
     ]
    }
   ],
   "source": [
    "# Group by cluster to count how many of each cluster there is\n",
    "\n",
    "cluster_counts = sub_set_2.group_by(\"cluster\").len(name=\"n\")\n",
    "\n",
    "print(cluster_counts)\n"
   ]
  },
  {
   "cell_type": "code",
   "execution_count": null,
   "metadata": {},
   "outputs": [],
   "source": []
  },
  {
   "cell_type": "code",
   "execution_count": 46,
   "metadata": {},
   "outputs": [],
   "source": [
    "### Question 3 ------- Are there seasonal trends to flight cancellations (Seasonal decomposition)"
   ]
  },
  {
   "cell_type": "code",
   "execution_count": 47,
   "metadata": {},
   "outputs": [],
   "source": [
    "### Question 4 ------- What factors are most predictive for flight diversions?"
   ]
  }
 ],
 "metadata": {
  "kernelspec": {
   "display_name": "Python 3",
   "language": "python",
   "name": "python3"
  },
  "language_info": {
   "codemirror_mode": {
    "name": "ipython",
    "version": 3
   },
   "file_extension": ".py",
   "mimetype": "text/x-python",
   "name": "python",
   "nbconvert_exporter": "python",
   "pygments_lexer": "ipython3",
   "version": "3.11.10"
  }
 },
 "nbformat": 4,
 "nbformat_minor": 2
}
